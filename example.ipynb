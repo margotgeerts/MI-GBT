{
 "cells": [
  {
   "cell_type": "code",
   "execution_count": 7,
   "metadata": {},
   "outputs": [],
   "source": [
    "from MIBooster import *\n",
    "from load_spatialdata import *\n",
    "from utils import *\n",
    "import numpy as np"
   ]
  },
  {
   "cell_type": "code",
   "execution_count": 8,
   "metadata": {},
   "outputs": [
    {
     "name": "stdout",
     "output_type": "stream",
     "text": [
      "            y         x     meanT     meanP\n",
      "1501  43.6064  -93.3019  0.492299  0.141646\n",
      "1643  40.6742 -100.4936  0.550322  0.093253\n",
      "1880  34.9894  -99.0525  0.683560  0.106676\n",
      "3003  40.7300   31.6000  0.579513  0.100495\n",
      "758   10.4800   99.1800  0.922815  0.344931\n"
     ]
    }
   ],
   "source": [
    "## Load the temperature data\n",
    "data_train, data_val, data_test = get_air_temp_data()\n",
    "\n",
    "print(data_train.head())"
   ]
  },
  {
   "cell_type": "code",
   "execution_count": 9,
   "metadata": {},
   "outputs": [],
   "source": [
    "target = \"meanT\"\n",
    "feature_cols = [col for col in data_train.columns if col != target]\n",
    "\n",
    "X_train = data_train[feature_cols].values\n",
    "y_train = data_train[target].values\n",
    "locs_train = np.deg2rad(data_train[['y','x']].values)\n",
    "X_val = data_val[feature_cols].values\n",
    "y_val = data_val[target].values\n",
    "locs_val = np.deg2rad(data_val[['y','x']].values)\n",
    "X_test = data_test[feature_cols].values\n",
    "y_test = data_test[target].values\n",
    "locs_test = np.deg2rad(data_test[['y','x']].values)"
   ]
  },
  {
   "cell_type": "code",
   "execution_count": 10,
   "metadata": {},
   "outputs": [
    {
     "name": "stdout",
     "output_type": "stream",
     "text": [
      "RMSE:  0.04062470652849581\n"
     ]
    }
   ],
   "source": [
    "mi_booster = MIXGBooster(k=35, verbosity=0)\n",
    "mi_booster.fit(X_train, y_train, locs_train)\n",
    "y_pred = mi_booster.predict(X_val)\n",
    "print(\"RMSE: \", np.sqrt(np.mean((y_val-y_pred)**2)))"
   ]
  },
  {
   "cell_type": "code",
   "execution_count": 11,
   "metadata": {},
   "outputs": [
    {
     "data": {
      "text/plain": [
       "<2153x2153 sparse matrix of type '<class 'numpy.float64'>'\n",
       "\twith 75355 stored elements in Compressed Sparse Row format>"
      ]
     },
     "execution_count": 11,
     "metadata": {},
     "output_type": "execute_result"
    }
   ],
   "source": [
    "mi_booster.w"
   ]
  },
  {
   "cell_type": "code",
   "execution_count": 12,
   "metadata": {},
   "outputs": [
    {
     "name": "stdout",
     "output_type": "stream",
     "text": [
      "RMSE:  0.041853329806057445\n"
     ]
    }
   ],
   "source": [
    "from xgboost import XGBRegressor\n",
    "xgb_baseline = XGBRegressor(verbosity=0)\n",
    "xgb_baseline.fit(X_train, y_train)\n",
    "y_pred = xgb_baseline.predict(X_val)\n",
    "print(\"RMSE: \", np.sqrt(np.mean((y_val-y_pred)**2)))"
   ]
  },
  {
   "cell_type": "code",
   "execution_count": null,
   "metadata": {},
   "outputs": [],
   "source": []
  }
 ],
 "metadata": {
  "language_info": {
   "name": "python"
  }
 },
 "nbformat": 4,
 "nbformat_minor": 2
}
