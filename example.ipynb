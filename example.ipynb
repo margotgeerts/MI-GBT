{
 "cells": [
  {
   "cell_type": "code",
   "execution_count": 1,
   "metadata": {},
   "outputs": [
    {
     "name": "stderr",
     "output_type": "stream",
     "text": [
      "/Users/margotgeerts/opt/anaconda3/lib/python3.8/site-packages/xgboost/compat.py:31: FutureWarning: pandas.Int64Index is deprecated and will be removed from pandas in a future version. Use pandas.Index with the appropriate dtype instead.\n",
      "  from pandas import MultiIndex, Int64Index\n",
      "/Users/margotgeerts/opt/anaconda3/lib/python3.8/site-packages/geopandas/_compat.py:111: UserWarning: The Shapely GEOS version (3.11.3-CAPI-1.17.3) is incompatible with the GEOS version PyGEOS was compiled with (3.8.0-CAPI-1.13.1). Conversions between both will be slow.\n",
      "  warnings.warn(\n"
     ]
    }
   ],
   "source": [
    "from MIBooster import *\n",
    "from load_spatialdata import *\n",
    "from utils import *\n",
    "import numpy as np"
   ]
  },
  {
   "cell_type": "code",
   "execution_count": 2,
   "metadata": {},
   "outputs": [
    {
     "name": "stdout",
     "output_type": "stream",
     "text": [
      "            y         x     meanT     meanP\n",
      "1501  43.6064  -93.3019  0.492299  0.141646\n",
      "1643  40.6742 -100.4936  0.550322  0.093253\n",
      "1880  34.9894  -99.0525  0.683560  0.106676\n",
      "3003  40.7300   31.6000  0.579513  0.100495\n",
      "758   10.4800   99.1800  0.922815  0.344931\n"
     ]
    }
   ],
   "source": [
    "## Load the temperature data\n",
    "data_train, data_val, data_test = get_air_temp_data()\n",
    "\n",
    "print(data_train.head())"
   ]
  },
  {
   "cell_type": "code",
   "execution_count": 3,
   "metadata": {},
   "outputs": [],
   "source": [
    "target = \"meanT\"\n",
    "feature_cols = [col for col in data_train.columns if col != target]\n",
    "\n",
    "X_train = data_train[feature_cols].values\n",
    "y_train = data_train[target].values\n",
    "locs_train = np.deg2rad(data_train[['y','x']].values)\n",
    "X_val = data_val[feature_cols].values\n",
    "y_val = data_val[target].values\n",
    "locs_val = np.deg2rad(data_val[['y','x']].values)\n",
    "X_test = data_test[feature_cols].values\n",
    "y_test = data_test[target].values\n",
    "locs_test = np.deg2rad(data_test[['y','x']].values)"
   ]
  },
  {
   "cell_type": "code",
   "execution_count": 4,
   "metadata": {},
   "outputs": [
    {
     "name": "stdout",
     "output_type": "stream",
     "text": [
      "RMSE:  0.04062470652849581\n"
     ]
    }
   ],
   "source": [
    "mi_booster = MIXGBooster(k=35, verbosity=0)\n",
    "mi_booster.fit(X_train, y_train, locs_train)\n",
    "y_pred = mi_booster.predict(X_val)\n",
    "print(\"RMSE: \", np.sqrt(np.mean((y_val-y_pred)**2)))"
   ]
  },
  {
   "cell_type": "code",
   "execution_count": 5,
   "metadata": {},
   "outputs": [
    {
     "data": {
      "text/plain": [
       "<2153x2153 sparse matrix of type '<class 'numpy.float64'>'\n",
       "\twith 75355 stored elements in Compressed Sparse Row format>"
      ]
     },
     "execution_count": 5,
     "metadata": {},
     "output_type": "execute_result"
    }
   ],
   "source": [
    "mi_booster.w"
   ]
  },
  {
   "cell_type": "code",
   "execution_count": 6,
   "metadata": {},
   "outputs": [
    {
     "ename": "NameError",
     "evalue": "name 'verbos' is not defined",
     "output_type": "error",
     "traceback": [
      "\u001b[0;31m---------------------------------------------------------------------------\u001b[0m",
      "\u001b[0;31mNameError\u001b[0m                                 Traceback (most recent call last)",
      "Input \u001b[0;32mIn [6]\u001b[0m, in \u001b[0;36m<cell line: 2>\u001b[0;34m()\u001b[0m\n\u001b[1;32m      1\u001b[0m \u001b[38;5;28;01mfrom\u001b[39;00m \u001b[38;5;21;01mxgboost\u001b[39;00m \u001b[38;5;28;01mimport\u001b[39;00m XGBRegressor\n\u001b[0;32m----> 2\u001b[0m xgb_baseline \u001b[38;5;241m=\u001b[39m XGBRegressor(\u001b[43mverbos\u001b[49m)\n\u001b[1;32m      3\u001b[0m xgb_baseline\u001b[38;5;241m.\u001b[39mfit(X_train, y_train)\n\u001b[1;32m      4\u001b[0m y_pred \u001b[38;5;241m=\u001b[39m xgb_baseline\u001b[38;5;241m.\u001b[39mpredict(X_val)\n",
      "\u001b[0;31mNameError\u001b[0m: name 'verbos' is not defined"
     ]
    }
   ],
   "source": [
    "from xgboost import XGBRegressor\n",
    "xgb_baseline = XGBRegressor(verbosity=0)\n",
    "xgb_baseline.fit(X_train, y_train)\n",
    "y_pred = xgb_baseline.predict(X_val)\n",
    "print(\"RMSE: \", np.sqrt(np.mean((y_val-y_pred)**2)))"
   ]
  },
  {
   "cell_type": "code",
   "execution_count": null,
   "metadata": {},
   "outputs": [],
   "source": []
  }
 ],
 "metadata": {
  "language_info": {
   "name": "python"
  }
 },
 "nbformat": 4,
 "nbformat_minor": 2
}
